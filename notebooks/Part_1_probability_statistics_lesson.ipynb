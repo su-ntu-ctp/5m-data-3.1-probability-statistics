{
 "cells": [
  {
   "cell_type": "markdown",
   "metadata": {
    "id": "aTOLgsbN69-P"
   },
   "source": [
    "# Probability, Information Theory & Statistics"
   ]
  },
  {
   "cell_type": "markdown",
   "metadata": {
    "id": "yqUB9FTRAxd-"
   },
   "source": [
    "*Probability & Information Theory*, introduces the mathematical fields that enable us to quantify uncertainty as well as to make predictions despite uncertainty. These fields are essential because machine learning algorithms are both trained by imperfect data and deployed into noisy, real-world scenarios they haven’t encountered before.\n",
    "\n",
    "You’ll develop a working understanding of \n",
    "\n",
    "- Variables, probability distributions, metrics for assessing distributions.\n",
    "- Essential statistical tests for assessing whether data are correlated with each other or sampled from different populations -- tests which frequently come in handy for critically evaluating the inputs and outputs of machine learning algorithms."
   ]
  },
  {
   "cell_type": "markdown",
   "metadata": {
    "id": "HDE74CXX5ChI"
   },
   "source": [
    "## Part 1: Introduction to Probability"
   ]
  },
  {
   "cell_type": "code",
   "execution_count": 1,
   "metadata": {
    "id": "kzRpCm2a5ChJ"
   },
   "outputs": [],
   "source": [
    "import numpy as np\n",
    "import scipy.stats as st\n",
    "import matplotlib.pyplot as plt\n",
    "import seaborn as sns"
   ]
  },
  {
   "cell_type": "markdown",
   "metadata": {
    "id": "gjSkHJ8r5ChQ"
   },
   "source": [
    "#### The Law of Large Numbers"
   ]
  },
  {
   "cell_type": "markdown",
   "metadata": {
    "id": "7rfVQfP55ChR"
   },
   "source": [
    "The **law of large numbers** states that the more experiments we run, the closer we will tend to get to the expected probability. "
   ]
  },
  {
   "cell_type": "markdown",
   "metadata": {
    "id": "7A3Va-dB5ChR"
   },
   "source": [
    "Let's run some code to examine this in practice. To start, we'll create a vector of exponentially increasing $n$umbers of coin tosses per experiment: "
   ]
  },
  {
   "cell_type": "code",
   "execution_count": 2,
   "metadata": {
    "id": "ymsouctT5ChR"
   },
   "outputs": [],
   "source": [
    "ns = np.array([2, 4, 8, 16, 32, 64, 128, 256, 512, 1024, 2048, 4096]) "
   ]
  },
  {
   "cell_type": "code",
   "execution_count": 3,
   "metadata": {
    "id": "hgmoAn2g5ChR"
   },
   "outputs": [],
   "source": [
    "np.random.seed(42) # for reproducibility"
   ]
  },
  {
   "cell_type": "markdown",
   "metadata": {
    "id": "hKtZzZKK5ChR"
   },
   "source": [
    "We will discuss the `binomial()` method in more detail in *Part 2*. For now it suffices to think of its two arguments as *number of coin flips in experiment* and *probability of heads*, while it returns the number of flips that are heads in the experiment."
   ]
  },
  {
   "cell_type": "code",
   "execution_count": 4,
   "metadata": {
    "colab": {
     "base_uri": "https://localhost:8080/"
    },
    "id": "xRQh-0iG5ChS",
    "outputId": "0d7a21c0-b715-4ffa-b893-2854bdd0cbab"
   },
   "outputs": [
    {
     "data": {
      "text/plain": [
       "0"
      ]
     },
     "execution_count": 4,
     "metadata": {},
     "output_type": "execute_result"
    }
   ],
   "source": [
    "np.random.binomial(1, 0.5)"
   ]
  },
  {
   "cell_type": "code",
   "execution_count": 5,
   "metadata": {
    "colab": {
     "base_uri": "https://localhost:8080/"
    },
    "id": "OwfWWhFm5ChS",
    "outputId": "e6146ce6-748d-4012-b3d7-1eb8b9048508"
   },
   "outputs": [
    {
     "data": {
      "text/plain": [
       "[2, 3, 4, 6, 13, 27, 54, 136, 258, 509, 1038, 2094]"
      ]
     },
     "execution_count": 5,
     "metadata": {},
     "output_type": "execute_result"
    }
   ],
   "source": [
    "heads_count = [np.random.binomial(n, 0.5) for n in ns]\n",
    "heads_count"
   ]
  },
  {
   "cell_type": "code",
   "execution_count": 6,
   "metadata": {
    "colab": {
     "base_uri": "https://localhost:8080/"
    },
    "id": "rL4PbNmY5ChS",
    "outputId": "ad56af0f-9bd3-4031-af21-02d087787e71"
   },
   "outputs": [
    {
     "data": {
      "text/plain": [
       "array([1.        , 0.75      , 0.5       , 0.375     , 0.40625   ,\n",
       "       0.421875  , 0.421875  , 0.53125   , 0.50390625, 0.49707031,\n",
       "       0.50683594, 0.51123047])"
      ]
     },
     "execution_count": 6,
     "metadata": {},
     "output_type": "execute_result"
    }
   ],
   "source": [
    "proportion_heads = heads_count/ns\n",
    "proportion_heads"
   ]
  },
  {
   "cell_type": "code",
   "execution_count": 7,
   "metadata": {
    "colab": {
     "base_uri": "https://localhost:8080/",
     "height": 279
    },
    "id": "vlz7a5DU5ChS",
    "outputId": "8e306028-59a4-4d48-8528-5d07b39981ec"
   },
   "outputs": [
    {
     "data": {
      "image/png": "[encoded data removed]",
      "text/plain": [
       "<Figure size 640x480 with 1 Axes>"
      ]
     },
     "metadata": {},
     "output_type": "display_data"
    }
   ],
   "source": [
    "fig, ax = plt.subplots()\n",
    "plt.xlabel('Number of coin flips in experiment')\n",
    "plt.ylabel('Proportion of flips that are heads')\n",
    "plt.axhline(0.5, color='orange')\n",
    "_ = ax.scatter(ns, proportion_heads)"
   ]
  },
  {
   "cell_type": "markdown",
   "metadata": {
    "id": "LMC_Cvs85ChV"
   },
   "source": [
    "### Expected Value"
   ]
  },
  {
   "cell_type": "code",
   "execution_count": 14,
   "metadata": {},
   "outputs": [],
   "source": [
    "from math import factorial\n",
    "def coinflip_prob(n, k):\n",
    "    n_choose_k = factorial(n)/(factorial(k)*factorial(n-k))\n",
    "    return n_choose_k/2**n\n"
   ]
  },
  {
   "cell_type": "code",
   "execution_count": 15,
   "metadata": {},
   "outputs": [
    {
     "data": {
      "text/plain": [
       "[0.03125, 0.15625, 0.3125, 0.3125, 0.15625, 0.03125]"
      ]
     },
     "execution_count": 15,
     "metadata": {},
     "output_type": "execute_result"
    }
   ],
   "source": [
    "coinflip_prob(5, 3)\n",
    "0.3125\n",
    "[coinflip_prob(5, h) for h in range(6)]"
   ]
  },
  {
   "cell_type": "code",
   "execution_count": 16,
   "metadata": {
    "colab": {
     "base_uri": "https://localhost:8080/"
    },
    "id": "XOyKNFZw5ChV",
    "outputId": "8c944f76-706b-4d23-ce7a-5b31736d2305"
   },
   "outputs": [
    {
     "data": {
      "text/plain": [
       "[0.03125, 0.15625, 0.3125, 0.3125, 0.15625, 0.03125]"
      ]
     },
     "execution_count": 16,
     "metadata": {},
     "output_type": "execute_result"
    }
   ],
   "source": [
    "P = [coinflip_prob(5, x) for x in range(6)]\n",
    "P"
   ]
  },
  {
   "cell_type": "markdown",
   "metadata": {
    "id": "XCCclUvR5ChV"
   },
   "source": [
    "$$ \\mathbb{E} = \\sum_x xP(x) $$"
   ]
  },
  {
   "cell_type": "code",
   "execution_count": 17,
   "metadata": {
    "colab": {
     "base_uri": "https://localhost:8080/"
    },
    "id": "37gjROzg5ChV",
    "outputId": "fef29d34-1027-4db5-c717-52ac399679bf"
   },
   "outputs": [
    {
     "data": {
      "text/plain": [
       "2.5"
      ]
     },
     "execution_count": 17,
     "metadata": {},
     "output_type": "execute_result"
    }
   ],
   "source": [
    "E = sum([P[x]*x for x in range(6)])\n",
    "E"
   ]
  },
  {
   "cell_type": "markdown",
   "metadata": {
    "id": "xOq8r0Ud5ChV"
   },
   "source": [
    "**Exercises**:\n",
    "\n",
    "1. Assuming heads = 1 and tails = 0, what’s the expected value of the toss of a fair coin? \n",
    "2. ...and of two tosses of a fair coin? \n",
    "3. You are one of a thousand people to purchase a lottery ticket. The ticket costs \\\\$10 and pays out \\\\$5000. What value should you expect from this transaction? \n"
   ]
  },
  {
   "cell_type": "markdown",
   "metadata": {
    "id": "IwCzvbE05ChW"
   },
   "source": [
    "### Measures of Central Tendency"
   ]
  },
  {
   "cell_type": "markdown",
   "metadata": {
    "id": "Nz_RAtEf5ChW"
   },
   "source": [
    "Measures of central tendency provide a summary statistic on the center of a given distribution, a.k.a., the \"average\" value of the distribution."
   ]
  },
  {
   "cell_type": "markdown",
   "metadata": {
    "id": "HrAt0oVb5ChW"
   },
   "source": [
    "#### Mean"
   ]
  },
  {
   "cell_type": "markdown",
   "metadata": {
    "id": "pCKs9uFF5ChW"
   },
   "source": [
    "The most common measure of central tendency, synonomous with the term \"average\", is the **mean**, often symbolized with $\\mu$ (population) or $\\bar{x}$ (sample):"
   ]
  },
  {
   "cell_type": "markdown",
   "metadata": {
    "id": "sBIObqs05ChW"
   },
   "source": [
    "$$ \\bar{x} = \\frac{\\sum_{i=1}^n x_i}{n} $$"
   ]
  },
  {
   "cell_type": "markdown",
   "metadata": {
    "id": "-O0hmQam5ChX"
   },
   "source": [
    "Expected value is in fact the long-term *mean* of some function (i.e., $\\mu = \\mathbb{E}$). Let's calculate how close the sample mean, $\\bar{x}$, of our five-coin-flip experiments comes to the expected value, $\\mathbb{E} = 2.5$."
   ]
  },
  {
   "cell_type": "code",
   "execution_count": null,
   "metadata": {},
   "outputs": [],
   "source": [
    "n_experiments = 1000\n",
    "heads_count = np.random.binomial(5, 0.5, n_experiments)"
   ]
  },
  {
   "cell_type": "code",
   "execution_count": 18,
   "metadata": {
    "colab": {
     "base_uri": "https://localhost:8080/"
    },
    "id": "fJY0mexL5ChX",
    "outputId": "7d1c0f46-d7a2-4d91-e332-a889125c3cc0"
   },
   "outputs": [
    {
     "data": {
      "text/plain": [
       "1000"
      ]
     },
     "execution_count": 18,
     "metadata": {},
     "output_type": "execute_result"
    }
   ],
   "source": [
    "len(heads_count)"
   ]
  },
  {
   "cell_type": "code",
   "execution_count": 19,
   "metadata": {
    "colab": {
     "base_uri": "https://localhost:8080/"
    },
    "id": "sU3-c-EJ5ChX",
    "outputId": "e4218377-3664-4b4c-bd39-ea4f666c0316"
   },
   "outputs": [
    {
     "data": {
      "text/plain": [
       "array([2, 2, 2, 3, 2, 3, 3, 1, 3, 1, 1, 4, 4, 3, 2, 1, 3, 2, 1, 2])"
      ]
     },
     "execution_count": 19,
     "metadata": {},
     "output_type": "execute_result"
    }
   ],
   "source": [
    "heads_count[0:20]"
   ]
  },
  {
   "cell_type": "code",
   "execution_count": 20,
   "metadata": {
    "colab": {
     "base_uri": "https://localhost:8080/"
    },
    "id": "pA0ai4I45ChX",
    "outputId": "7f1de0ca-22ac-40d6-8104-058eba801b75"
   },
   "outputs": [
    {
     "data": {
      "text/plain": [
       "np.float64(2.47)"
      ]
     },
     "execution_count": 20,
     "metadata": {},
     "output_type": "execute_result"
    }
   ],
   "source": [
    "sum(heads_count)/len(heads_count)"
   ]
  },
  {
   "cell_type": "markdown",
   "metadata": {
    "id": "fN9wBEb55ChX"
   },
   "source": [
    "Unsurprisingly, NumPy comes with a built-in function:"
   ]
  },
  {
   "cell_type": "code",
   "execution_count": 21,
   "metadata": {
    "colab": {
     "base_uri": "https://localhost:8080/"
    },
    "id": "OXRi9fki-5CB",
    "outputId": "bb58234f-053b-4018-a41f-d66bc95262b9"
   },
   "outputs": [
    {
     "data": {
      "text/plain": [
       "np.float64(2.47)"
      ]
     },
     "execution_count": 21,
     "metadata": {},
     "output_type": "execute_result"
    }
   ],
   "source": [
    "np.mean(heads_count)"
   ]
  },
  {
   "cell_type": "code",
   "execution_count": 22,
   "metadata": {
    "colab": {
     "base_uri": "https://localhost:8080/"
    },
    "id": "4c6p-UVK-aok",
    "outputId": "bbd05a09-8f61-4139-f955-265501674459"
   },
   "outputs": [
    {
     "data": {
      "text/plain": [
       "np.float64(2.47)"
      ]
     },
     "execution_count": 22,
     "metadata": {},
     "output_type": "execute_result"
    }
   ],
   "source": [
    "heads_count.mean() # fun!"
   ]
  },
  {
   "cell_type": "markdown",
   "metadata": {
    "id": "vD8bvjix5ChY"
   },
   "source": [
    "Pretty close! The law of large numbers implies that as we increase the number of experiments (e.g., to a million -- you're welcome to try it), we'll converge on $\\mathbb{E}=2.5$."
   ]
  },
  {
   "cell_type": "markdown",
   "metadata": {
    "id": "Q1qtow1O5ChY"
   },
   "source": [
    "#### Median"
   ]
  },
  {
   "cell_type": "markdown",
   "metadata": {
    "id": "4TZHQsES5ChY"
   },
   "source": [
    "The second most common measure of central tendency is the **median**, the midpoint value in the distribution: "
   ]
  },
  {
   "cell_type": "code",
   "execution_count": 23,
   "metadata": {
    "id": "Ff3aQam65ChY"
   },
   "outputs": [],
   "source": [
    "heads_count.sort()"
   ]
  },
  {
   "cell_type": "code",
   "execution_count": 24,
   "metadata": {
    "colab": {
     "base_uri": "https://localhost:8080/"
    },
    "id": "0ECSOjaA5ChY",
    "outputId": "806d020a-98b3-4fc5-8e4c-079bb985e32b"
   },
   "outputs": [
    {
     "data": {
      "text/plain": [
       "array([0, 0, 0, 0, 0, 0, 0, 0, 0, 0, 0, 0, 0, 0, 0, 0, 0, 0, 0, 0])"
      ]
     },
     "execution_count": 24,
     "metadata": {},
     "output_type": "execute_result"
    }
   ],
   "source": [
    "heads_count[0:20]"
   ]
  },
  {
   "cell_type": "code",
   "execution_count": 25,
   "metadata": {
    "colab": {
     "base_uri": "https://localhost:8080/"
    },
    "id": "ySeyJ81I5ChY",
    "outputId": "6d05fde2-4ecc-4ca3-ae0b-7827f8d36bfd"
   },
   "outputs": [
    {
     "data": {
      "text/plain": [
       "array([5, 5, 5, 5, 5, 5, 5, 5, 5, 5, 5, 5, 5, 5, 5, 5, 5, 5, 5, 5])"
      ]
     },
     "execution_count": 25,
     "metadata": {},
     "output_type": "execute_result"
    }
   ],
   "source": [
    "heads_count[-20:]"
   ]
  },
  {
   "cell_type": "code",
   "execution_count": 26,
   "metadata": {
    "colab": {
     "base_uri": "https://localhost:8080/"
    },
    "id": "SdeMf4RR5ChZ",
    "outputId": "59906afc-e8c8-4be9-ee6d-30456acbae30"
   },
   "outputs": [
    {
     "data": {
      "text/plain": [
       "1000"
      ]
     },
     "execution_count": 26,
     "metadata": {},
     "output_type": "execute_result"
    }
   ],
   "source": [
    "len(heads_count)"
   ]
  },
  {
   "cell_type": "markdown",
   "metadata": {
    "id": "WWfqQ4rI5ChZ"
   },
   "source": [
    "With an odd number of values in a distribution, we consider the single midpoint to be the median, e.g., the midpoint of the sorted array `[2, 4, 6, 9, 10]` is six.\n",
    "\n",
    "With an even number, we take the mean of the two values that straddle the midpoint: "
   ]
  },
  {
   "cell_type": "code",
   "execution_count": 27,
   "metadata": {
    "colab": {
     "base_uri": "https://localhost:8080/"
    },
    "id": "xQPz0RT45ChZ",
    "outputId": "381670c8-24b9-49e1-abbd-118a0079798d"
   },
   "outputs": [
    {
     "data": {
      "text/plain": [
       "np.int64(3)"
      ]
     },
     "execution_count": 27,
     "metadata": {},
     "output_type": "execute_result"
    }
   ],
   "source": [
    "heads_count[499]"
   ]
  },
  {
   "cell_type": "code",
   "execution_count": 28,
   "metadata": {
    "colab": {
     "base_uri": "https://localhost:8080/"
    },
    "id": "RavYR6JX5ChZ",
    "outputId": "320112e3-3485-4bed-d1fc-8e6fde3c074c"
   },
   "outputs": [
    {
     "data": {
      "text/plain": [
       "np.int64(3)"
      ]
     },
     "execution_count": 28,
     "metadata": {},
     "output_type": "execute_result"
    }
   ],
   "source": [
    "heads_count[500]"
   ]
  },
  {
   "cell_type": "markdown",
   "metadata": {
    "id": "o7CLGD4z5ChZ"
   },
   "source": [
    "...which in this case is obviously three: "
   ]
  },
  {
   "cell_type": "code",
   "execution_count": 29,
   "metadata": {
    "colab": {
     "base_uri": "https://localhost:8080/"
    },
    "id": "MZ6cEUJ25ChZ",
    "outputId": "fd6ffaa8-ad24-40f9-a034-dbd665005943"
   },
   "outputs": [
    {
     "data": {
      "text/plain": [
       "3.0"
      ]
     },
     "execution_count": 29,
     "metadata": {},
     "output_type": "execute_result"
    }
   ],
   "source": [
    "(3+3)/2"
   ]
  },
  {
   "cell_type": "markdown",
   "metadata": {
    "id": "udtzZf_X5Cha"
   },
   "source": [
    "Built-in method:"
   ]
  },
  {
   "cell_type": "code",
   "execution_count": 30,
   "metadata": {
    "colab": {
     "base_uri": "https://localhost:8080/"
    },
    "id": "dxxtSiCp5Cha",
    "outputId": "97319c5a-7613-48f0-ce05-e9709163ec92"
   },
   "outputs": [
    {
     "data": {
      "text/plain": [
       "np.float64(3.0)"
      ]
     },
     "execution_count": 30,
     "metadata": {},
     "output_type": "execute_result"
    }
   ],
   "source": [
    "np.median(heads_count)"
   ]
  },
  {
   "cell_type": "markdown",
   "metadata": {
    "id": "k3Fv1AMu5Cha"
   },
   "source": [
    "#### Mode"
   ]
  },
  {
   "cell_type": "markdown",
   "metadata": {
    "id": "RiUTOi3U5Cha"
   },
   "source": [
    "The **mode** is the final common measure of central tendency. It is simply the value in the distribution that occurs most frequently.\n",
    "\n",
    "As is clear in the most recently output chart, in the case of our five-coin-toss experiment, the mode is three. "
   ]
  },
  {
   "cell_type": "markdown",
   "metadata": {
    "id": "ukKeQScV5Cha"
   },
   "source": [
    "Method available in the SciPy `stats` module:"
   ]
  },
  {
   "cell_type": "code",
   "execution_count": 31,
   "metadata": {
    "colab": {
     "base_uri": "https://localhost:8080/"
    },
    "id": "FPrHiYh65Cha",
    "outputId": "a621ecd5-897f-4692-b26e-d81319074b50"
   },
   "outputs": [
    {
     "data": {
      "text/plain": [
       "ModeResult(mode=np.int64(3), count=np.int64(313))"
      ]
     },
     "execution_count": 31,
     "metadata": {},
     "output_type": "execute_result"
    }
   ],
   "source": [
    "st.mode(heads_count)"
   ]
  },
  {
   "cell_type": "code",
   "execution_count": 32,
   "metadata": {
    "colab": {
     "base_uri": "https://localhost:8080/"
    },
    "id": "PFUn0iJX5Chb",
    "outputId": "b0ef3e17-382b-4b73-896b-ea4675f8e5f1"
   },
   "outputs": [
    {
     "data": {
      "text/plain": [
       "np.int64(3)"
      ]
     },
     "execution_count": 32,
     "metadata": {},
     "output_type": "execute_result"
    }
   ],
   "source": [
    "st.mode(heads_count)[0]"
   ]
  },
  {
   "cell_type": "markdown",
   "metadata": {
    "id": "36qtYyry5Chb"
   },
   "source": [
    "With small sample sizes, the mean typically provides the most accurate measure of central tendency.\n",
    "\n",
    "With larger sample sizes, the mean, median, and mode will tend to coincide, as long as the distribution isn't skewed: "
   ]
  },
  {
   "cell_type": "code",
   "execution_count": 33,
   "metadata": {
    "id": "NcU6qKo35Chb"
   },
   "outputs": [],
   "source": [
    "x = st.skewnorm.rvs(0, size=1000) # first argument is \"skewness\"; 0 has no skew"
   ]
  },
  {
   "cell_type": "code",
   "execution_count": 34,
   "metadata": {
    "colab": {
     "base_uri": "https://localhost:8080/",
     "height": 0
    },
    "id": "c13nv_wO5Chb",
    "outputId": "ca2f764e-de6c-467f-a9fc-f3519305c27f"
   },
   "outputs": [
    {
     "data": {
      "image/png": "[encoded data removed]",
      "text/plain": [
       "<Figure size 640x480 with 1 Axes>"
      ]
     },
     "metadata": {},
     "output_type": "display_data"
    }
   ],
   "source": [
    "fig, ax = plt.subplots()\n",
    "plt.axvline(x = np.mean(x), color='orange')\n",
    "plt.axvline(x = np.median(x), color='green')\n",
    "_ = plt.hist(x, color = 'lightgray')\n",
    "# Note: Mode typically only applies to PMFs; this is a PDF"
   ]
  },
  {
   "cell_type": "markdown",
   "metadata": {
    "id": "EdRT_Lme5Chb"
   },
   "source": [
    "Skewed distributions, in contrast, drag the mean away from the center and toward the tail: "
   ]
  },
  {
   "cell_type": "code",
   "execution_count": 35,
   "metadata": {
    "id": "85C_EFZZ5Chb"
   },
   "outputs": [],
   "source": [
    "x = st.skewnorm.rvs(10, size=1000) "
   ]
  },
  {
   "cell_type": "code",
   "execution_count": 36,
   "metadata": {
    "colab": {
     "base_uri": "https://localhost:8080/",
     "height": 0
    },
    "id": "pT0zxSPd5Chb",
    "outputId": "70df9666-57fa-496a-b1ff-1b7031c6455f"
   },
   "outputs": [
    {
     "data": {
      "image/png": "[encoded data removed]",
      "text/plain": [
       "<Figure size 640x480 with 1 Axes>"
      ]
     },
     "metadata": {},
     "output_type": "display_data"
    }
   ],
   "source": [
    "fig, ax = plt.subplots()\n",
    "plt.axvline(x = np.mean(x), color='orange')\n",
    "_ = plt.hist(x, color = 'lightgray')"
   ]
  },
  {
   "cell_type": "markdown",
   "metadata": {
    "id": "-uDxp8YT5Chc"
   },
   "source": [
    "The mode is least impacted by skew, but is only applicable to discrete distributions. For continuous distributions with skew (e.g., salary data), median is typically the choice measure of central tendency:"
   ]
  },
  {
   "cell_type": "code",
   "execution_count": 37,
   "metadata": {
    "colab": {
     "base_uri": "https://localhost:8080/",
     "height": 0
    },
    "id": "zzrBO1fg5Chc",
    "outputId": "a37b0035-69cf-4501-8748-b4f0c77a3e1d"
   },
   "outputs": [
    {
     "data": {
      "image/png": "[encoded data removed]",
      "text/plain": [
       "<Figure size 640x480 with 1 Axes>"
      ]
     },
     "metadata": {},
     "output_type": "display_data"
    }
   ],
   "source": [
    "fig, ax = plt.subplots()\n",
    "plt.axvline(x = np.mean(x), color='orange')\n",
    "plt.axvline(x = np.median(x), color='green')\n",
    "_ = plt.hist(x, color = 'lightgray')"
   ]
  },
  {
   "cell_type": "markdown",
   "metadata": {
    "id": "RRr8oPbC5Chc"
   },
   "source": [
    "### Quantiles"
   ]
  },
  {
   "cell_type": "markdown",
   "metadata": {
    "id": "Sorh-6kS5Chc"
   },
   "source": [
    "The median, which divides a distribution in two at its midpoint, is the most well-known example of a quantile:"
   ]
  },
  {
   "cell_type": "code",
   "execution_count": 38,
   "metadata": {
    "colab": {
     "base_uri": "https://localhost:8080/"
    },
    "id": "CZfX5qP95Chc",
    "outputId": "c04b6c11-c8db-483c-92f0-ac654b0a5e0a"
   },
   "outputs": [
    {
     "data": {
      "text/plain": [
       "np.float64(0.6987365121323832)"
      ]
     },
     "execution_count": 38,
     "metadata": {},
     "output_type": "execute_result"
    }
   ],
   "source": [
    "np.median(x)"
   ]
  },
  {
   "cell_type": "code",
   "execution_count": 39,
   "metadata": {
    "colab": {
     "base_uri": "https://localhost:8080/"
    },
    "id": "YqPFRjcO5Chc",
    "outputId": "51ec4f9e-7f32-496e-e3ff-3a72b96abccf"
   },
   "outputs": [
    {
     "data": {
      "text/plain": [
       "np.float64(0.6987365121323832)"
      ]
     },
     "execution_count": 39,
     "metadata": {},
     "output_type": "execute_result"
    }
   ],
   "source": [
    "np.quantile(x, 0.5)"
   ]
  },
  {
   "cell_type": "markdown",
   "metadata": {
    "id": "HpK3wcmy5Chd"
   },
   "source": [
    "Generally speaking, quantiles divide up distributions and the most common are:\n",
    "\n",
    "* Percentiles, \n",
    "* Quartiles, and\n",
    "* Deciles."
   ]
  },
  {
   "cell_type": "markdown",
   "metadata": {
    "id": "kIB-rEJQ5Chd"
   },
   "source": [
    "**Percentiles** divide the distribution at any point out of one hundred (\"pour cent\" is French for \"out of a hundred\"). For example, if we'd like to identify the threshold for the top 5% of a distribution, we'd cut it at the 95th percentile. Or, for the top 1%, we'd cut at the 99th percentile."
   ]
  },
  {
   "cell_type": "code",
   "execution_count": 40,
   "metadata": {
    "colab": {
     "base_uri": "https://localhost:8080/"
    },
    "id": "3T9AE9aS5Chd",
    "outputId": "3fc34ef5-479f-4b81-bd93-60bba04eea1e"
   },
   "outputs": [
    {
     "data": {
      "text/plain": [
       "array([2.06249928, 2.51830108])"
      ]
     },
     "execution_count": 40,
     "metadata": {},
     "output_type": "execute_result"
    }
   ],
   "source": [
    "p = np.percentile(x, [95, 99])\n",
    "p"
   ]
  },
  {
   "cell_type": "code",
   "execution_count": 41,
   "metadata": {
    "colab": {
     "base_uri": "https://localhost:8080/",
     "height": 0
    },
    "id": "A_guMMCh5Chd",
    "outputId": "785ea9b7-6bc3-4c92-9f58-e7714f113289"
   },
   "outputs": [
    {
     "data": {
      "image/png": "[encoded data removed]",
      "text/plain": [
       "<Figure size 640x480 with 1 Axes>"
      ]
     },
     "metadata": {},
     "output_type": "display_data"
    }
   ],
   "source": [
    "fig, ax = plt.subplots()\n",
    "plt.axvline(x = p[0], color='orange')\n",
    "plt.axvline(x = p[1], color='red')\n",
    "_ = plt.hist(x, color = 'lightgray')"
   ]
  },
  {
   "cell_type": "markdown",
   "metadata": {
    "id": "atT5Wbtn5Chd"
   },
   "source": [
    "Note that the Numpy `quantile()` method is identical to the `percentile()` method except we pass proportions (ranging from zero to one) into the former and percentages (ranging from zero to 100) into the latter: "
   ]
  },
  {
   "cell_type": "code",
   "execution_count": 42,
   "metadata": {
    "colab": {
     "base_uri": "https://localhost:8080/"
    },
    "id": "xEQo8y7u5Chd",
    "outputId": "2c98e4b2-f92e-4eb8-a4bc-6d00a937b798"
   },
   "outputs": [
    {
     "data": {
      "text/plain": [
       "array([2.06249928, 2.51830108])"
      ]
     },
     "execution_count": 42,
     "metadata": {},
     "output_type": "execute_result"
    }
   ],
   "source": [
    "np.quantile(x, [.95, .99])"
   ]
  },
  {
   "cell_type": "markdown",
   "metadata": {
    "id": "vDhFcNWj5Che"
   },
   "source": [
    "**Quartiles**, as their name suggests, are quantiles that divide a distribution into quarters by splitting the distribution at the 25th percentile, the median (a.k.a. the 50th percentile), and the 75th percentile: "
   ]
  },
  {
   "cell_type": "code",
   "execution_count": 43,
   "metadata": {
    "colab": {
     "base_uri": "https://localhost:8080/"
    },
    "id": "miEwAsQV5Che",
    "outputId": "e15cdd18-b73c-44c7-cc19-7407f349e01b"
   },
   "outputs": [
    {
     "data": {
      "text/plain": [
       "array([0.32494046, 0.69873651, 1.19431522])"
      ]
     },
     "execution_count": 43,
     "metadata": {},
     "output_type": "execute_result"
    }
   ],
   "source": [
    "q = np.percentile(x, [25, 50, 75])\n",
    "q"
   ]
  },
  {
   "cell_type": "code",
   "execution_count": 44,
   "metadata": {
    "colab": {
     "base_uri": "https://localhost:8080/",
     "height": 0
    },
    "id": "kQvjcq3O5Che",
    "outputId": "6e68df01-f07c-4c34-94e4-6f8dd13b8d56"
   },
   "outputs": [
    {
     "data": {
      "image/png": "[encoded data removed]",
      "text/plain": [
       "<Figure size 640x480 with 1 Axes>"
      ]
     },
     "metadata": {},
     "output_type": "display_data"
    }
   ],
   "source": [
    "fig, ax = plt.subplots()\n",
    "plt.axvline(x = q[0], color='cornflowerblue')\n",
    "plt.axvline(x = q[1], color='green')\n",
    "plt.axvline(x = q[2], color='cornflowerblue')\n",
    "_ = plt.hist(x, color = 'lightgray')"
   ]
  },
  {
   "cell_type": "markdown",
   "metadata": {
    "id": "JWVX933i5Che"
   },
   "source": [
    "Finally, **deciles** (from Latin *decimus*, meaning \"tenth\") divide a distribution into ten evenly-sized segments: "
   ]
  },
  {
   "cell_type": "code",
   "execution_count": 45,
   "metadata": {
    "colab": {
     "base_uri": "https://localhost:8080/"
    },
    "id": "SD59HmMa5Che",
    "outputId": "5016eada-cc0f-4122-9b35-cd5a956a544c"
   },
   "outputs": [
    {
     "data": {
      "text/plain": [
       "[10, 20, 30, 40, 50, 60, 70, 80, 90]"
      ]
     },
     "execution_count": 45,
     "metadata": {},
     "output_type": "execute_result"
    }
   ],
   "source": [
    "[i for i in range(10, 100, 10)]"
   ]
  },
  {
   "cell_type": "code",
   "execution_count": 46,
   "metadata": {
    "colab": {
     "base_uri": "https://localhost:8080/"
    },
    "id": "pVuo_iTo5Chf",
    "outputId": "a93fbff4-7765-4bcd-a060-4850965cfd38"
   },
   "outputs": [
    {
     "data": {
      "text/plain": [
       "array([0.11871856, 0.24991108, 0.3992659 , 0.53290322, 0.69873651,\n",
       "       0.86771624, 1.08994827, 1.30781239, 1.75782249])"
      ]
     },
     "execution_count": 46,
     "metadata": {},
     "output_type": "execute_result"
    }
   ],
   "source": [
    "d = np.percentile(x, range(10, 100, 10))\n",
    "d"
   ]
  },
  {
   "cell_type": "code",
   "execution_count": 47,
   "metadata": {
    "colab": {
     "base_uri": "https://localhost:8080/",
     "height": 0
    },
    "id": "wex6mxXx5Chf",
    "outputId": "1f3ddb15-52f7-42d5-e694-0d91e8263a4d"
   },
   "outputs": [
    {
     "data": {
      "image/png": "[encoded data removed]",
      "text/plain": [
       "<Figure size 640x480 with 1 Axes>"
      ]
     },
     "metadata": {},
     "output_type": "display_data"
    }
   ],
   "source": [
    "fig, ax = plt.subplots()\n",
    "[plt.axvline(x = d_i, color='cornflowerblue') for d_i in d]\n",
    "_ = plt.hist(x, color = 'lightgray')"
   ]
  },
  {
   "cell_type": "markdown",
   "metadata": {
    "id": "ul0eYeis5Chf"
   },
   "source": [
    "As examples, we can refer to the bottom 10% as the bottom decile or the first decile, while the top 10% is the top decile or tenth decile."
   ]
  },
  {
   "cell_type": "markdown",
   "metadata": {
    "id": "quNYihVQ5Chk"
   },
   "source": [
    "### Measures of Dispersion"
   ]
  },
  {
   "cell_type": "markdown",
   "metadata": {
    "id": "MKaq4xJ25Chk"
   },
   "source": [
    "The most widely-used are: \n",
    "\n",
    "* Variance,\n",
    "* Standard deviation, and\n",
    "* Standard error. "
   ]
  },
  {
   "cell_type": "markdown",
   "metadata": {
    "id": "Ti6GdZeZ5Chk"
   },
   "source": [
    "**Variance** (denoted with $\\sigma^2$) can be written using expected-value notation, but it's easier to understand without it: \n",
    "$$ \\sigma^2 = \\frac{\\sum_{i=1}^n (x_i-\\bar{x})^2}{n} $$"
   ]
  },
  {
   "cell_type": "markdown",
   "metadata": {
    "id": "4G-ogAFP5Chk"
   },
   "source": [
    "As an example let's calculate the variance of the PDF `x` from earlier: "
   ]
  },
  {
   "cell_type": "code",
   "execution_count": 48,
   "metadata": {
    "colab": {
     "base_uri": "https://localhost:8080/"
    },
    "id": "AGO5TXzt5Chk",
    "outputId": "367f5a61-db75-40fe-85bd-87299ccc6bfb"
   },
   "outputs": [
    {
     "data": {
      "text/plain": [
       "np.float64(0.8219573880882259)"
      ]
     },
     "execution_count": 48,
     "metadata": {},
     "output_type": "execute_result"
    }
   ],
   "source": [
    "xbar = np.mean(x)\n",
    "xbar"
   ]
  },
  {
   "cell_type": "code",
   "execution_count": 49,
   "metadata": {
    "id": "u-fEygHR5Chl"
   },
   "outputs": [],
   "source": [
    "squared_differences = [(x_i - xbar)**2 for x_i in x]"
   ]
  },
  {
   "cell_type": "code",
   "execution_count": 50,
   "metadata": {
    "colab": {
     "base_uri": "https://localhost:8080/"
    },
    "id": "qdvZ5_fg5Chl",
    "outputId": "d806aaa1-07fb-4e5a-c34e-d64e08ce183a"
   },
   "outputs": [
    {
     "data": {
      "text/plain": [
       "[np.float64(0.0718378634090664),\n",
       " np.float64(0.8722478661864917),\n",
       " np.float64(0.1334218838727603),\n",
       " np.float64(0.3886626067265625),\n",
       " np.float64(0.6040403927885849),\n",
       " np.float64(2.884828656909769),\n",
       " np.float64(0.3540458365909019),\n",
       " np.float64(0.02600064799461356),\n",
       " np.float64(0.4072114715667349),\n",
       " np.float64(0.7998927302046771)]"
      ]
     },
     "execution_count": 50,
     "metadata": {},
     "output_type": "execute_result"
    }
   ],
   "source": [
    "squared_differences[0:10]"
   ]
  },
  {
   "cell_type": "code",
   "execution_count": 51,
   "metadata": {
    "colab": {
     "base_uri": "https://localhost:8080/"
    },
    "id": "jduq8CVv5Chl",
    "outputId": "4501df61-bbdb-4d9a-f132-c6fa84fb9220"
   },
   "outputs": [
    {
     "data": {
      "text/plain": [
       "np.float64(0.3981358598225055)"
      ]
     },
     "execution_count": 51,
     "metadata": {},
     "output_type": "execute_result"
    }
   ],
   "source": [
    "sigma_squared = sum(squared_differences)/len(x)\n",
    "sigma_squared"
   ]
  },
  {
   "cell_type": "markdown",
   "metadata": {
    "id": "mnZoMJAj5Chl"
   },
   "source": [
    "Of course there's a built-in NumPy method: "
   ]
  },
  {
   "cell_type": "code",
   "execution_count": 52,
   "metadata": {
    "colab": {
     "base_uri": "https://localhost:8080/"
    },
    "id": "pIci-1It5Chl",
    "outputId": "e86df4d3-47e2-460e-e64d-ae662eda8aff"
   },
   "outputs": [
    {
     "data": {
      "text/plain": [
       "np.float64(0.39813585982250577)"
      ]
     },
     "execution_count": 52,
     "metadata": {},
     "output_type": "execute_result"
    }
   ],
   "source": [
    "np.var(x)"
   ]
  },
  {
   "cell_type": "markdown",
   "metadata": {
    "id": "TChK1Qii5Chl"
   },
   "source": [
    "#### Standard Deviation"
   ]
  },
  {
   "cell_type": "markdown",
   "metadata": {
    "id": "Ei-js4cF5Chm"
   },
   "source": [
    "A straightforward derivative of variance is **standard deviation** (denoted with $\\sigma$), which is convenient because its units are on the same scale as the values in the distribution: \n",
    "$$ \\sigma = \\sqrt{\\sigma^2} $$"
   ]
  },
  {
   "cell_type": "code",
   "execution_count": 53,
   "metadata": {
    "colab": {
     "base_uri": "https://localhost:8080/"
    },
    "id": "ginsMxgi5Chm",
    "outputId": "cbb90697-f761-4430-91dd-bf6d305fc57b"
   },
   "outputs": [
    {
     "data": {
      "text/plain": [
       "np.float64(0.6309800787841923)"
      ]
     },
     "execution_count": 53,
     "metadata": {},
     "output_type": "execute_result"
    }
   ],
   "source": [
    "sigma = sigma_squared**(1/2)\n",
    "sigma"
   ]
  },
  {
   "cell_type": "code",
   "execution_count": 54,
   "metadata": {
    "colab": {
     "base_uri": "https://localhost:8080/"
    },
    "id": "mT0pi9Qx5Chm",
    "outputId": "4560e541-2537-4c35-f9ff-17e384c2d2ba"
   },
   "outputs": [
    {
     "data": {
      "text/plain": [
       "np.float64(0.6309800787841925)"
      ]
     },
     "execution_count": 54,
     "metadata": {},
     "output_type": "execute_result"
    }
   ],
   "source": [
    "np.std(x)"
   ]
  },
  {
   "cell_type": "code",
   "execution_count": 55,
   "metadata": {
    "colab": {
     "base_uri": "https://localhost:8080/",
     "height": 0
    },
    "id": "k7a_hKT75Chm",
    "outputId": "1280c67d-9818-45f8-a4a6-07ca6d6d4d55"
   },
   "outputs": [
    {
     "data": {
      "image/png": "[encoded data removed]",
      "text/plain": [
       "<Figure size 640x480 with 1 Axes>"
      ]
     },
     "metadata": {},
     "output_type": "display_data"
    }
   ],
   "source": [
    "fig, ax = plt.subplots()\n",
    "plt.axvline(x = xbar, color='orange')\n",
    "plt.axvline(x = xbar+sigma, color='olivedrab')\n",
    "plt.axvline(x = xbar-sigma, color='olivedrab')\n",
    "_ = plt.hist(x, color = 'lightgray')"
   ]
  },
  {
   "cell_type": "markdown",
   "metadata": {
    "id": "TghPdBIE5Chm"
   },
   "source": [
    "#### Standard Error"
   ]
  },
  {
   "cell_type": "markdown",
   "metadata": {
    "id": "vuIykMWN5Chm"
   },
   "source": [
    "A further derivation of standard deviation is **standard error**, which is denoted with $\\sigma_\\bar{x}$:\n",
    "$$ \\sigma_\\bar{x} = \\frac{\\sigma}{\\sqrt{n}} $$"
   ]
  },
  {
   "cell_type": "code",
   "execution_count": 56,
   "metadata": {
    "colab": {
     "base_uri": "https://localhost:8080/"
    },
    "id": "6C2xB1UU5Chn",
    "outputId": "7ba71331-7221-4685-d1b5-770dd1032064"
   },
   "outputs": [
    {
     "data": {
      "text/plain": [
       "np.float64(0.019953342071505353)"
      ]
     },
     "execution_count": 56,
     "metadata": {},
     "output_type": "execute_result"
    }
   ],
   "source": [
    "sigma/(len(x))**(1/2)"
   ]
  },
  {
   "cell_type": "code",
   "execution_count": 57,
   "metadata": {
    "colab": {
     "base_uri": "https://localhost:8080/"
    },
    "id": "Itaub6WD5Chn",
    "outputId": "8aa80640-7752-48bb-e7bc-5f7a3f908667"
   },
   "outputs": [
    {
     "data": {
      "text/plain": [
       "np.float64(0.01996332623128527)"
      ]
     },
     "execution_count": 57,
     "metadata": {},
     "output_type": "execute_result"
    }
   ],
   "source": [
    "st.sem(x) # defaults to 1 degree of freedom (n-1), which can be ignored with the larger data sets of ML"
   ]
  },
  {
   "cell_type": "code",
   "execution_count": 58,
   "metadata": {
    "colab": {
     "base_uri": "https://localhost:8080/"
    },
    "id": "YAjsX8WB5Chn",
    "outputId": "f6611684-66ae-4140-ccf7-0aac92d1eece"
   },
   "outputs": [
    {
     "data": {
      "text/plain": [
       "np.float64(0.01995334207150536)"
      ]
     },
     "execution_count": 58,
     "metadata": {},
     "output_type": "execute_result"
    }
   ],
   "source": [
    "st.sem(x, ddof=0) # 0 degrees of freedom (n)"
   ]
  },
  {
   "cell_type": "markdown",
   "metadata": {
    "id": "MuPQwbJn5Chn"
   },
   "source": [
    "Standard error enables us to compare whether the means of two distributions differ *significantly*, a focus of *Intro to Stats*."
   ]
  },
  {
   "cell_type": "markdown",
   "metadata": {
    "id": "XwRxQf9E5Chn"
   },
   "source": [
    "### Measures of Relatedness"
   ]
  },
  {
   "cell_type": "markdown",
   "metadata": {
    "id": "ttvO-Q_B5Chn"
   },
   "source": [
    "If we have two vectors of the same length, $x$ and $y$, where each element of $x$ is paired with the corresponding element of $y$, **covariance** provides a measure of how related the variables are to each other:\n",
    "$$ \\text{cov}(x, y) = \\frac{\\sum_{i=1}^n (x_i - \\bar{x})(y_i - \\bar{y}) }{n} $$"
   ]
  },
  {
   "cell_type": "code",
   "execution_count": 59,
   "metadata": {},
   "outputs": [
    {
     "data": {
      "text/html": [
       "<div>\n",
       "<style scoped>\n",
       "    .dataframe tbody tr th:only-of-type {\n",
       "        vertical-align: middle;\n",
       "    }\n",
       "\n",
       "    .dataframe tbody tr th {\n",
       "        vertical-align: top;\n",
       "    }\n",
       "\n",
       "    .dataframe thead th {\n",
       "        text-align: right;\n",
       "    }\n",
       "</style>\n",
       "<table border=\"1\" class=\"dataframe\">\n",
       "  <thead>\n",
       "    <tr style=\"text-align: right;\">\n",
       "      <th></th>\n",
       "      <th>sepal_length</th>\n",
       "      <th>sepal_width</th>\n",
       "      <th>petal_length</th>\n",
       "      <th>petal_width</th>\n",
       "      <th>species</th>\n",
       "    </tr>\n",
       "  </thead>\n",
       "  <tbody>\n",
       "    <tr>\n",
       "      <th>0</th>\n",
       "      <td>5.1</td>\n",
       "      <td>3.5</td>\n",
       "      <td>1.4</td>\n",
       "      <td>0.2</td>\n",
       "      <td>setosa</td>\n",
       "    </tr>\n",
       "    <tr>\n",
       "      <th>1</th>\n",
       "      <td>4.9</td>\n",
       "      <td>3.0</td>\n",
       "      <td>1.4</td>\n",
       "      <td>0.2</td>\n",
       "      <td>setosa</td>\n",
       "    </tr>\n",
       "    <tr>\n",
       "      <th>2</th>\n",
       "      <td>4.7</td>\n",
       "      <td>3.2</td>\n",
       "      <td>1.3</td>\n",
       "      <td>0.2</td>\n",
       "      <td>setosa</td>\n",
       "    </tr>\n",
       "    <tr>\n",
       "      <th>3</th>\n",
       "      <td>4.6</td>\n",
       "      <td>3.1</td>\n",
       "      <td>1.5</td>\n",
       "      <td>0.2</td>\n",
       "      <td>setosa</td>\n",
       "    </tr>\n",
       "    <tr>\n",
       "      <th>4</th>\n",
       "      <td>5.0</td>\n",
       "      <td>3.6</td>\n",
       "      <td>1.4</td>\n",
       "      <td>0.2</td>\n",
       "      <td>setosa</td>\n",
       "    </tr>\n",
       "    <tr>\n",
       "      <th>...</th>\n",
       "      <td>...</td>\n",
       "      <td>...</td>\n",
       "      <td>...</td>\n",
       "      <td>...</td>\n",
       "      <td>...</td>\n",
       "    </tr>\n",
       "    <tr>\n",
       "      <th>145</th>\n",
       "      <td>6.7</td>\n",
       "      <td>3.0</td>\n",
       "      <td>5.2</td>\n",
       "      <td>2.3</td>\n",
       "      <td>virginica</td>\n",
       "    </tr>\n",
       "    <tr>\n",
       "      <th>146</th>\n",
       "      <td>6.3</td>\n",
       "      <td>2.5</td>\n",
       "      <td>5.0</td>\n",
       "      <td>1.9</td>\n",
       "      <td>virginica</td>\n",
       "    </tr>\n",
       "    <tr>\n",
       "      <th>147</th>\n",
       "      <td>6.5</td>\n",
       "      <td>3.0</td>\n",
       "      <td>5.2</td>\n",
       "      <td>2.0</td>\n",
       "      <td>virginica</td>\n",
       "    </tr>\n",
       "    <tr>\n",
       "      <th>148</th>\n",
       "      <td>6.2</td>\n",
       "      <td>3.4</td>\n",
       "      <td>5.4</td>\n",
       "      <td>2.3</td>\n",
       "      <td>virginica</td>\n",
       "    </tr>\n",
       "    <tr>\n",
       "      <th>149</th>\n",
       "      <td>5.9</td>\n",
       "      <td>3.0</td>\n",
       "      <td>5.1</td>\n",
       "      <td>1.8</td>\n",
       "      <td>virginica</td>\n",
       "    </tr>\n",
       "  </tbody>\n",
       "</table>\n",
       "<p>150 rows × 5 columns</p>\n",
       "</div>"
      ],
      "text/plain": [
       "     sepal_length  sepal_width  petal_length  petal_width    species\n",
       "0             5.1          3.5           1.4          0.2     setosa\n",
       "1             4.9          3.0           1.4          0.2     setosa\n",
       "2             4.7          3.2           1.3          0.2     setosa\n",
       "3             4.6          3.1           1.5          0.2     setosa\n",
       "4             5.0          3.6           1.4          0.2     setosa\n",
       "..            ...          ...           ...          ...        ...\n",
       "145           6.7          3.0           5.2          2.3  virginica\n",
       "146           6.3          2.5           5.0          1.9  virginica\n",
       "147           6.5          3.0           5.2          2.0  virginica\n",
       "148           6.2          3.4           5.4          2.3  virginica\n",
       "149           5.9          3.0           5.1          1.8  virginica\n",
       "\n",
       "[150 rows x 5 columns]"
      ]
     },
     "execution_count": 59,
     "metadata": {},
     "output_type": "execute_result"
    }
   ],
   "source": [
    "iris = sns.load_dataset('iris')\n",
    "iris"
   ]
  },
  {
   "cell_type": "code",
   "execution_count": 60,
   "metadata": {
    "id": "t9rSqTHC5Cho"
   },
   "outputs": [],
   "source": [
    "x = iris.sepal_length\n",
    "y = iris.petal_length"
   ]
  },
  {
   "cell_type": "code",
   "execution_count": 61,
   "metadata": {
    "colab": {
     "base_uri": "https://localhost:8080/",
     "height": 0
    },
    "id": "hM-_V5jF5Cho",
    "outputId": "fd6e46d1-6683-4b61-86f7-1a4901c509c1"
   },
   "outputs": [
    {
     "data": {
      "image/png": "[encoded data removed]",
      "text/plain": [
       "<Figure size 640x480 with 1 Axes>"
      ]
     },
     "metadata": {},
     "output_type": "display_data"
    }
   ],
   "source": [
    "_ = sns.scatterplot(x=x, y=y)"
   ]
  },
  {
   "cell_type": "markdown",
   "metadata": {
    "id": "YEc4sv0v5Chp"
   },
   "source": [
    "The NumPy `cov()` method returns a **covariance matrix**, which is a $2 \\times 2$ matrix because $x$ and $y$ together describe a two-dimensional space: "
   ]
  },
  {
   "cell_type": "code",
   "execution_count": 66,
   "metadata": {
    "colab": {
     "base_uri": "https://localhost:8080/"
    },
    "id": "6n9HymBG5Chp",
    "outputId": "5a106bb0-03b1-4f36-8826-c9e157b8f831"
   },
   "outputs": [
    {
     "data": {
      "text/plain": [
       "array([[0.68112222, 1.26582   ],\n",
       "       [1.26582   , 3.09550267]])"
      ]
     },
     "execution_count": 66,
     "metadata": {},
     "output_type": "execute_result"
    }
   ],
   "source": [
    "np.cov(x, y, ddof=0) # again, defaults to ddof=1"
   ]
  },
  {
   "cell_type": "markdown",
   "metadata": {
    "id": "yBXI9B2-5Chp"
   },
   "source": [
    "The diagonal elements of the covariance matrix represent the variance of $x$ and $y$, respectively: "
   ]
  },
  {
   "cell_type": "code",
   "execution_count": 67,
   "metadata": {
    "colab": {
     "base_uri": "https://localhost:8080/"
    },
    "id": "uKhq8mSA5Chp",
    "outputId": "11186075-417b-46bd-eddd-e78a70c5bcc2"
   },
   "outputs": [
    {
     "data": {
      "text/plain": [
       "np.float64(0.6811222222222223)"
      ]
     },
     "execution_count": 67,
     "metadata": {},
     "output_type": "execute_result"
    }
   ],
   "source": [
    "np.var(x)"
   ]
  },
  {
   "cell_type": "code",
   "execution_count": 68,
   "metadata": {
    "colab": {
     "base_uri": "https://localhost:8080/"
    },
    "id": "NrtQqVjr5Chp",
    "outputId": "97318707-9cc4-47ad-99fd-fccbdec37587"
   },
   "outputs": [
    {
     "data": {
      "text/plain": [
       "np.float64(3.0955026666666665)"
      ]
     },
     "execution_count": 68,
     "metadata": {},
     "output_type": "execute_result"
    }
   ],
   "source": [
    "np.var(y)"
   ]
  },
  {
   "cell_type": "markdown",
   "metadata": {
    "id": "1y2wfLeD5Chq"
   },
   "source": [
    "If $x$ and $y$ are inversely related, their covariance is negative. The less related they are, the closer their covariance is to zero: "
   ]
  },
  {
   "cell_type": "code",
   "execution_count": 69,
   "metadata": {
    "colab": {
     "base_uri": "https://localhost:8080/",
     "height": 0
    },
    "id": "epIqQ-p25Chq",
    "outputId": "768406cd-f6f4-4f2d-ed53-c8bf7c909cbd"
   },
   "outputs": [
    {
     "data": {
      "image/png": "[encoded data removed]",
      "text/plain": [
       "<Figure size 640x480 with 1 Axes>"
      ]
     },
     "metadata": {},
     "output_type": "display_data"
    }
   ],
   "source": [
    "_ = sns.scatterplot(x=iris.sepal_length, y=iris.sepal_width)"
   ]
  },
  {
   "cell_type": "code",
   "execution_count": 70,
   "metadata": {
    "colab": {
     "base_uri": "https://localhost:8080/"
    },
    "id": "QoIKgBHf5Chq",
    "outputId": "d194e10c-27c3-4c1b-c725-d924711c4fd6"
   },
   "outputs": [
    {
     "data": {
      "text/plain": [
       "array([[ 0.68112222, -0.04215111],\n",
       "       [-0.04215111,  0.18871289]])"
      ]
     },
     "execution_count": 70,
     "metadata": {},
     "output_type": "execute_result"
    }
   ],
   "source": [
    "np.cov(iris.sepal_length, iris.sepal_width, ddof=0)"
   ]
  },
  {
   "cell_type": "markdown",
   "metadata": {
    "id": "t7GPaB_m5Chq"
   },
   "source": [
    "#### Correlation"
   ]
  },
  {
   "cell_type": "markdown",
   "metadata": {
    "id": "uFDuVBQE5Chq"
   },
   "source": [
    "A drawback of covariance is that it confounds the relative scale of two variables with a measure of the variables' relatedness. **Correlation** builds on covariance and overcomes this drawback via rescaling, thereby measuring relatedness exclusively. Correlation is much more common because of this difference. \n",
    "\n",
    "The correlation coefficient (developed by Karl Pearson in the 20th c. though known in the 19th c.) is often denoted with $r$ or $\\rho$ and is defined by: \n",
    "$$ \\rho_{x,y} = \\frac{\\text{cov}(x,y)}{\\sigma_x \\sigma_y} $$"
   ]
  },
  {
   "cell_type": "code",
   "execution_count": 74,
   "metadata": {
    "colab": {
     "base_uri": "https://localhost:8080/"
    },
    "id": "LYHyhLnC5Chr",
    "outputId": "46657183-79de-4b0e-f631-9bbb28575469"
   },
   "outputs": [
    {
     "data": {
      "text/plain": [
       "PearsonRResult(statistic=np.float64(-0.11756978413300206), pvalue=np.float64(0.15189826071144746))"
      ]
     },
     "execution_count": 74,
     "metadata": {},
     "output_type": "execute_result"
    }
   ],
   "source": [
    "st.pearsonr(iris.sepal_length, iris.sepal_width)"
   ]
  },
  {
   "cell_type": "markdown",
   "metadata": {
    "id": "Jp8yMtiM5Chr"
   },
   "source": [
    "The second value output of `pearsonr` is a measure of statistical significance, which we'll detail in *Intro to Stats*. "
   ]
  },
  {
   "cell_type": "markdown",
   "metadata": {
    "id": "J3HRJ9S7klIp"
   },
   "source": [
    "$\\rho$ has a range of -1 to 1, with values closer to zero indicating less correlation: "
   ]
  },
  {
   "cell_type": "code",
   "execution_count": 75,
   "metadata": {
    "colab": {
     "base_uri": "https://localhost:8080/"
    },
    "id": "6vF_9wgj5Chr",
    "outputId": "a195fafa-b7de-40ad-ac42-9c2015ca438a"
   },
   "outputs": [
    {
     "data": {
      "text/plain": [
       "np.float64(-0.11756978413300206)"
      ]
     },
     "execution_count": 75,
     "metadata": {},
     "output_type": "execute_result"
    }
   ],
   "source": [
    "st.pearsonr(iris.sepal_length, iris.sepal_width)[0]"
   ]
  },
  {
   "cell_type": "markdown",
   "metadata": {
    "id": "dUIa7O-6lXy8"
   },
   "source": [
    "The closer $\\rho$ is to 1 or -1, the stronger the positive or negative correlation, respectively: "
   ]
  },
  {
   "cell_type": "code",
   "execution_count": 76,
   "metadata": {
    "colab": {
     "base_uri": "https://localhost:8080/"
    },
    "id": "d9KqkNOr5Chr",
    "outputId": "a88d431f-600d-492a-a0a9-31e62a733b3b"
   },
   "outputs": [
    {
     "data": {
      "text/plain": [
       "np.float64(0.8717537758865831)"
      ]
     },
     "execution_count": 76,
     "metadata": {},
     "output_type": "execute_result"
    }
   ],
   "source": [
    "st.pearsonr(iris.sepal_length, iris.petal_length)[0]"
   ]
  },
  {
   "cell_type": "markdown",
   "metadata": {
    "id": "negAO_iA5Chs"
   },
   "source": [
    "N.B.: Covariance and correlation only account for linear relationships. Two variables could be non-linearly related to each other and these metrics could come out as zero."
   ]
  }
 ],
 "metadata": {
  "colab": {
   "include_colab_link": true,
   "name": "5-probability.ipynb",
   "provenance": []
  },
  "kernelspec": {
   "display_name": "Python 3 (ipykernel)",
   "language": "python",
   "name": "python3"
  },
  "language_info": {
   "codemirror_mode": {
    "name": "ipython",
    "version": 3
   },
   "file_extension": ".py",
   "mimetype": "text/x-python",
   "name": "python",
   "nbconvert_exporter": "python",
   "pygments_lexer": "ipython3",
   "version": "3.11.5"
  }
 },
 "nbformat": 4,
 "nbformat_minor": 4
}
